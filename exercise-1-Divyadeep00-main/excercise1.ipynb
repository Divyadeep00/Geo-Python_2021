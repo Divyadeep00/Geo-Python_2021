{
 "cells": [
  {
   "cell_type": "code",
   "execution_count": 1,
   "id": "47038092-da69-4f4f-8b42-f8e82b43aaae",
   "metadata": {},
   "outputs": [],
   "source": [
    "ice_cream_rating=7\n",
    "sleeping_rating=8"
   ]
  },
  {
   "cell_type": "code",
   "execution_count": 2,
   "id": "0b04442a-f2a9-4876-a1d1-cf24332dfb73",
   "metadata": {},
   "outputs": [
    {
     "name": "stdin",
     "output_type": "stream",
     "text": [
      "Enter your First name Divyadeep\n",
      "Enter your last name harbola\n"
     ]
    }
   ],
   "source": [
    "first_name=input(\"Enter your First name\")\n",
    "last_name=input(\"Enter your last name\")"
   ]
  },
  {
   "cell_type": "code",
   "execution_count": 15,
   "id": "4e63db88-fd0c-46f2-8847-941f278facfc",
   "metadata": {},
   "outputs": [
    {
     "data": {
      "text/plain": [
       "'Divyadeep harbola'"
      ]
     },
     "execution_count": 15,
     "metadata": {},
     "output_type": "execute_result"
    }
   ],
   "source": [
    "my_name=first_name+\" \" +last_name\n",
    "my_name"
   ]
  },
  {
   "cell_type": "code",
   "execution_count": 16,
   "id": "fc2e4724-80c4-45d9-a889-5d1554cfd104",
   "metadata": {},
   "outputs": [],
   "source": [
    "average=(ice_cream_rating+sleeping_rating)/2\n",
    "new_line=\"\\n\""
   ]
  },
  {
   "cell_type": "markdown",
   "id": "aae84cd9-c7aa-4148-b78a-784dd9fb6ff2",
   "metadata": {},
   "source": [
    "My name is Dave and I give eating ice cream a score of 9 out of 10!\n",
    "I am Dave Whipp and my sleeping enjoyment rating is 8 / 10!\n",
    "Based on the factors above, my happiness rating is 8.5 out of 10, or 85.0 %!\n"
   ]
  },
  {
   "cell_type": "code",
   "execution_count": 17,
   "id": "ab36d2a9-09ab-4525-979a-6831872b216d",
   "metadata": {},
   "outputs": [
    {
     "name": "stdout",
     "output_type": "stream",
     "text": [
      "My name is Divyadeep and I give eating ice cream a score of 7 out of 10 ! \n",
      " I am Divyadeep harbola and my sleeping enjoyment reating is 8/10 \n",
      " Based on the the factors above my happiness rating is 7.5 out of 10 or 75.0%\n"
     ]
    }
   ],
   "source": [
    "print(f\"My name is {first_name} and I give eating ice cream a score of {ice_cream_rating} out of 10 ! {new_line} I am {my_name} and my sleeping enjoyment reating is {sleeping_rating}/10 {new_line} Based on the the factors above my happiness rating is {average} out of 10 or {average *10}%\"\n",
    ")"
   ]
  },
  {
   "cell_type": "code",
   "execution_count": null,
   "id": "f429bef8-cdd1-422c-b7c2-773e1f655d8d",
   "metadata": {},
   "outputs": [],
   "source": []
  },
  {
   "cell_type": "code",
   "execution_count": null,
   "id": "20986ee8-d777-4e41-88e2-cfce4657ee1a",
   "metadata": {},
   "outputs": [],
   "source": []
  }
 ],
 "metadata": {
  "kernelspec": {
   "display_name": "Python 3 (ipykernel)",
   "language": "python",
   "name": "python3"
  },
  "language_info": {
   "codemirror_mode": {
    "name": "ipython",
    "version": 3
   },
   "file_extension": ".py",
   "mimetype": "text/x-python",
   "name": "python",
   "nbconvert_exporter": "python",
   "pygments_lexer": "ipython3",
   "version": "3.8.12"
  }
 },
 "nbformat": 4,
 "nbformat_minor": 5
}
